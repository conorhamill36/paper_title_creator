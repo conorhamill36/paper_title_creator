{
 "cells": [
  {
   "cell_type": "markdown",
   "id": "8d0ae38d-c7e7-4f87-8b5e-ff78666c6f02",
   "metadata": {},
   "source": [
    "Notebook to prototype using GPT to take an academic paper and save its name as \"{year}_{author}_{theme}\""
   ]
  },
  {
   "cell_type": "markdown",
   "id": "3495efdd-0742-49f9-82c1-1fa6f6364ccb",
   "metadata": {},
   "source": [
    "## imports"
   ]
  },
  {
   "cell_type": "code",
   "execution_count": 21,
   "id": "f07033a5-8f74-4f86-b94f-323fd7485b84",
   "metadata": {
    "tags": []
   },
   "outputs": [],
   "source": [
    "import shutil, os\n",
    "\n",
    "from PyPDF2 import PdfReader\n",
    "from openai import OpenAI"
   ]
  },
  {
   "cell_type": "code",
   "execution_count": 3,
   "id": "9bea770e-3784-4e35-bfa0-e3f1a9780bec",
   "metadata": {
    "tags": []
   },
   "outputs": [],
   "source": [
    "# Reading in API key\n",
    "api_key_path = \"../../../openai_key.txt\""
   ]
  },
  {
   "cell_type": "code",
   "execution_count": 4,
   "id": "e64f30ab-217b-4193-b2a4-ea081db74aa1",
   "metadata": {
    "tags": []
   },
   "outputs": [],
   "source": [
    "with open(api_key_path) as f:\n",
    "    api_key = f.readline()"
   ]
  },
  {
   "cell_type": "code",
   "execution_count": 5,
   "id": "dfa747dd-b26d-42fd-847d-d667aa160104",
   "metadata": {
    "tags": []
   },
   "outputs": [],
   "source": [
    "api_key = api_key.strip()"
   ]
  },
  {
   "cell_type": "markdown",
   "id": "d4c848b3-378d-4b38-bfaa-086b66c93668",
   "metadata": {},
   "source": [
    "## Extract text from PDF"
   ]
  },
  {
   "cell_type": "code",
   "execution_count": 6,
   "id": "d61960b2-6289-43c9-b2f4-5c9e6e458738",
   "metadata": {
    "tags": []
   },
   "outputs": [],
   "source": [
    "dir_path = \"../data/\"\n",
    "file_name = \"2311.05232.pdf\"\n",
    "file_name = \"2311.01901.pdf\" # abm paper"
   ]
  },
  {
   "cell_type": "code",
   "execution_count": 7,
   "id": "670e211a-1b97-4598-84db-be989c4cf32a",
   "metadata": {
    "tags": []
   },
   "outputs": [],
   "source": [
    "reader = PdfReader(dir_path + file_name)"
   ]
  },
  {
   "cell_type": "code",
   "execution_count": 8,
   "id": "9d221ea5-5aad-4e53-8cbf-8deaa8d75027",
   "metadata": {
    "tags": []
   },
   "outputs": [],
   "source": [
    "page = reader.pages[0]"
   ]
  },
  {
   "cell_type": "code",
   "execution_count": 9,
   "id": "06a0f049-a210-490c-8a53-7203a256e7de",
   "metadata": {
    "tags": []
   },
   "outputs": [],
   "source": [
    "text = page.extract_text()"
   ]
  },
  {
   "cell_type": "code",
   "execution_count": 10,
   "id": "9c57cddc-6aa9-41f0-85e4-1262d010e8ca",
   "metadata": {
    "tags": []
   },
   "outputs": [
    {
     "data": {
      "text/plain": [
       "3602"
      ]
     },
     "execution_count": 10,
     "metadata": {},
     "output_type": "execute_result"
    }
   ],
   "source": [
    "len(text)"
   ]
  },
  {
   "cell_type": "markdown",
   "id": "b41af3e5-a88d-4a56-a287-333922c355eb",
   "metadata": {},
   "source": [
    "## Send text to OpenAI API"
   ]
  },
  {
   "cell_type": "code",
   "execution_count": 11,
   "id": "b22ae398-6086-45a2-9419-516da168ab47",
   "metadata": {
    "tags": []
   },
   "outputs": [],
   "source": [
    "client = OpenAI(api_key=api_key)"
   ]
  },
  {
   "cell_type": "code",
   "execution_count": 12,
   "id": "6c9f427d-993c-4912-b5a1-ae962fa12857",
   "metadata": {
    "tags": []
   },
   "outputs": [],
   "source": [
    "message = f\"\"\"\n",
    "You are a helpful assistant who helps name the files for academic papers.\n",
    "The following is text extracted from the first page of an academic paper.\n",
    "Return a single slug containing the year, surname of the author and two/three words describing the paper subject, separated by underscores.\n",
    "{text}\n",
    "\"\"\""
   ]
  },
  {
   "cell_type": "code",
   "execution_count": 13,
   "id": "79c86579-f8f8-468e-b35f-8eaf02a9cd16",
   "metadata": {
    "tags": []
   },
   "outputs": [],
   "source": [
    "# checking api key works\n",
    "response = client.chat.completions.create(\n",
    "  model=\"gpt-3.5-turbo\",\n",
    "  messages=[\n",
    "    {\"role\": \"system\", \"content\": message},\n",
    "  ]\n",
    ")"
   ]
  },
  {
   "cell_type": "code",
   "execution_count": 14,
   "id": "6b9af466-0512-4ed7-aee5-15ee4aeb7250",
   "metadata": {
    "tags": []
   },
   "outputs": [
    {
     "data": {
      "text/plain": [
       "ChatCompletion(id='chatcmpl-8MJ6j2ZKGOtPKEMFBBg14Xuqvbwt3', choices=[Choice(finish_reason='stop', index=0, message=ChatCompletionMessage(content='2023_Hamill_credit_card_promotions', role='assistant', function_call=None, tool_calls=None))], created=1700327357, model='gpt-3.5-turbo-0613', object='chat.completion', system_fingerprint=None, usage=CompletionUsage(completion_tokens=9, prompt_tokens=821, total_tokens=830))"
      ]
     },
     "execution_count": 14,
     "metadata": {},
     "output_type": "execute_result"
    }
   ],
   "source": [
    "response"
   ]
  },
  {
   "cell_type": "code",
   "execution_count": 15,
   "id": "32044703-b158-4f6b-8e08-2ae6c342b02b",
   "metadata": {
    "tags": []
   },
   "outputs": [],
   "source": [
    "# extracting text from response and making file name\n",
    "new_filename = response.choices[0].message.content + \".pdf\""
   ]
  },
  {
   "cell_type": "code",
   "execution_count": 17,
   "id": "0999de4f-8bcf-48f7-aff6-f43915c8857c",
   "metadata": {
    "tags": []
   },
   "outputs": [],
   "source": [
    "# TODO: make names have capital letter and description all lower case"
   ]
  },
  {
   "cell_type": "code",
   "execution_count": 19,
   "id": "006b4758-eaa2-4323-86da-5163b6fd2cac",
   "metadata": {
    "tags": []
   },
   "outputs": [],
   "source": [
    "output_dir_path = \"../output/\""
   ]
  },
  {
   "cell_type": "code",
   "execution_count": 41,
   "id": "7a304a9b-78ff-4a51-9f21-498230c2dc06",
   "metadata": {
    "tags": []
   },
   "outputs": [],
   "source": [
    "# seems like files with names that only differ by capital letters \n",
    "# are considered the same whenever copying"
   ]
  },
  {
   "cell_type": "code",
   "execution_count": 39,
   "id": "ce3a3bfd-4cf0-4b38-a158-0e926a5f6787",
   "metadata": {
    "tags": []
   },
   "outputs": [
    {
     "data": {
      "text/plain": [
       "'../output/2023_Hamill_credit_card_promotions.pdf'"
      ]
     },
     "execution_count": 39,
     "metadata": {},
     "output_type": "execute_result"
    }
   ],
   "source": [
    "shutil.copy(\n",
    "    src=dir_path + file_name,\n",
    "    dst=output_dir_path + new_filename,\n",
    ")"
   ]
  },
  {
   "cell_type": "code",
   "execution_count": 23,
   "id": "e93963b3-0cb2-4379-b17c-76d45a1c1f2a",
   "metadata": {
    "tags": []
   },
   "outputs": [],
   "source": [
    "# check file has copied over"
   ]
  },
  {
   "cell_type": "code",
   "execution_count": 43,
   "id": "f68e1fbc-aae2-44cf-a344-243629e80321",
   "metadata": {
    "tags": []
   },
   "outputs": [],
   "source": [
    "assert new_filename in os.listdir(output_dir_path)"
   ]
  },
  {
   "cell_type": "code",
   "execution_count": null,
   "id": "6ce881d2-1867-455f-8c05-e64cdb3abde0",
   "metadata": {},
   "outputs": [],
   "source": []
  }
 ],
 "metadata": {
  "kernelspec": {
   "display_name": "openai_kernel",
   "language": "python",
   "name": "openai_kernel"
  },
  "language_info": {
   "codemirror_mode": {
    "name": "ipython",
    "version": 3
   },
   "file_extension": ".py",
   "mimetype": "text/x-python",
   "name": "python",
   "nbconvert_exporter": "python",
   "pygments_lexer": "ipython3",
   "version": "3.10.13"
  }
 },
 "nbformat": 4,
 "nbformat_minor": 5
}
